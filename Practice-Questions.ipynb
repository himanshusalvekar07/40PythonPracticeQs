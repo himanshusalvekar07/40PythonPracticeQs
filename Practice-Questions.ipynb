{
 "cells": [
  {
   "cell_type": "markdown",
   "id": "38a6ee56",
   "metadata": {},
   "source": [
    "## 1. Print the first 5 positive integers in ascending order with one number 1 in each line.\n"
   ]
  },
  {
   "cell_type": "markdown",
   "id": "c18d20ca",
   "metadata": {},
   "source": [
    "\n",
    "\n",
    "for i in  range(6):\n",
    "    print(i)"
   ]
  },
  {
   "cell_type": "code",
   "execution_count": 2,
   "id": "4e87c29b",
   "metadata": {},
   "outputs": [
    {
     "name": "stdout",
     "output_type": "stream",
     "text": [
      "*\n",
      "**\n",
      "***\n",
      "****\n",
      "*****\n"
     ]
    }
   ],
   "source": [
    "for i in range(1,6):\n",
    "    print('*'*i)"
   ]
  },
  {
   "cell_type": "code",
   "execution_count": 3,
   "id": "22abe527",
   "metadata": {},
   "outputs": [
    {
     "name": "stdout",
     "output_type": "stream",
     "text": [
      "asas\n",
      "asas\n",
      "asas asas\n"
     ]
    }
   ],
   "source": [
    "word1=input()\n",
    "word2=input()\n",
    "print(word1+' '+word2)\n"
   ]
  },
  {
   "cell_type": "code",
   "execution_count": 4,
   "id": "ce15fbdb",
   "metadata": {},
   "outputs": [
    {
     "name": "stdout",
     "output_type": "stream",
     "text": [
      "Please enter registration number of your vehicle: asas\n",
      "Please enter registration number of your vehicle: MH12HM1234\n",
      "MH\n"
     ]
    }
   ],
   "source": [
    "condn=False\n",
    "while condn==False:\n",
    "    reg_num=input('Please enter registration number of your vehicle: ')\n",
    "    if reg_num[0:1].isalpha() and reg_num[0:1].isupper() and reg_num[2:3].isnumeric() and reg_num[4:5].isalpha() and reg_num[4:5].isupper() and reg_num[6:10].isnumeric():\n",
    "        condn=True\n",
    "    else:\n",
    "        condn=False\n",
    "print(f\"{reg_num[0:2]}\")"
   ]
  },
  {
   "cell_type": "code",
   "execution_count": 7,
   "id": "ff341a15",
   "metadata": {},
   "outputs": [
    {
     "name": "stdout",
     "output_type": "stream",
     "text": [
      "Enter a 5-digit number: 12345\n"
     ]
    }
   ],
   "source": [
    "num=input('Enter a 5-digit number: ')\n",
    "sum_num=0+int(num[0:2])"
   ]
  },
  {
   "cell_type": "code",
   "execution_count": 8,
   "id": "2836ba7c",
   "metadata": {},
   "outputs": [
    {
     "data": {
      "text/plain": [
       "1234"
      ]
     },
     "execution_count": 8,
     "metadata": {},
     "output_type": "execute_result"
    }
   ],
   "source": [
    "12345//10\n"
   ]
  },
  {
   "cell_type": "code",
   "execution_count": null,
   "id": "b94e943d",
   "metadata": {},
   "outputs": [],
   "source": [
    "print(input(),input(),input(),input(),input()+'.')"
   ]
  },
  {
   "cell_type": "code",
   "execution_count": null,
   "id": "a6b67d77",
   "metadata": {},
   "outputs": [],
   "source": [
    "seq_num=[1,2,3,4,5,6,7,8,9]\n",
    "prod=1\n",
    "for i in seq_num:\n",
    "    prod=i*prod\n",
    "prod"
   ]
  },
  {
   "cell_type": "code",
   "execution_count": null,
   "id": "4f6fda2e",
   "metadata": {},
   "outputs": [],
   "source": [
    "x=int(input())\n",
    "y=int(input())\n",
    "b=x**y\n",
    "len(str(b))"
   ]
  },
  {
   "cell_type": "code",
   "execution_count": null,
   "id": "939b9ed9",
   "metadata": {},
   "outputs": [],
   "source": [
    "string=input('Enter a string: ')\n",
    "if len(string)%2==0:\n",
    "    print(f\"{string[2:len(string)-3]}\")\n",
    "else:\n",
    "    continue"
   ]
  },
  {
   "cell_type": "code",
   "execution_count": 4,
   "id": "6f0b98dd",
   "metadata": {},
   "outputs": [
    {
     "name": "stdout",
     "output_type": "stream",
     "text": [
      "Enter a string: him.\n",
      "i\n"
     ]
    }
   ],
   "source": [
    "string=input('Enter a string: ')\n",
    "length=len(string)\n",
    "\n",
    "if length%2==0:\n",
    "    if string[-1]=='.':\n",
    "        \n",
    "        string=string[0:length-2]\n",
    "        print(string[1:length-1])\n",
    "    else:\n",
    "        string=string+'.'\n",
    "        print(string[1:length-1])\n",
    "else:\n",
    "    pass\n",
    "    \n",
    "\n",
    "\n",
    "    "
   ]
  },
  {
   "cell_type": "code",
   "execution_count": null,
   "id": "2ef5e799",
   "metadata": {},
   "outputs": [],
   "source": [
    "string='hiamsans.'\n",
    "list1=string.split()\n",
    "list1[0][len(string)-1]"
   ]
  },
  {
   "cell_type": "code",
   "execution_count": null,
   "id": "f1883c7b",
   "metadata": {},
   "outputs": [],
   "source": [
    "name='hiam'\n",
    "list1=name.split()\n",
    "list2=list1[0].split()\n",
    "list2"
   ]
  },
  {
   "cell_type": "code",
   "execution_count": 16,
   "id": "557b3790",
   "metadata": {},
   "outputs": [
    {
     "data": {
      "text/plain": [
       "'asasasaas'"
      ]
     },
     "execution_count": 16,
     "metadata": {},
     "output_type": "execute_result"
    }
   ],
   "source": [
    "'asas'+'asaas'"
   ]
  },
  {
   "cell_type": "code",
   "execution_count": 15,
   "id": "63d69deb",
   "metadata": {},
   "outputs": [
    {
     "data": {
      "text/plain": [
       "'asasa.'"
      ]
     },
     "execution_count": 15,
     "metadata": {},
     "output_type": "execute_result"
    }
   ],
   "source": [
    "'asasa'+'.'"
   ]
  },
  {
   "cell_type": "code",
   "execution_count": 7,
   "id": "cffb16f2",
   "metadata": {},
   "outputs": [
    {
     "data": {
      "text/plain": [
       "'himasnh'"
      ]
     },
     "execution_count": 7,
     "metadata": {},
     "output_type": "execute_result"
    }
   ],
   "source": [
    "s='himasnhu'\n",
    "s[:-1]"
   ]
  },
  {
   "cell_type": "code",
   "execution_count": 10,
   "id": "c135b2be",
   "metadata": {},
   "outputs": [
    {
     "name": "stdout",
     "output_type": "stream",
     "text": [
      "hima\n",
      "ima\n"
     ]
    }
   ],
   "source": [
    "s = input()\n",
    "n = len(s)\n",
    "if n%2 == 0:\n",
    "    if s[n-1]=='.':\n",
    "        s=s[:-1]\n",
    "    else:\n",
    "        s=s+'.'\n",
    "n = int((len(s)-1)/2)\n",
    "print(s[n-1: n+2])"
   ]
  },
  {
   "cell_type": "markdown",
   "id": "4b29079e",
   "metadata": {},
   "source": [
    "13. Accept three positive integers as input and check if they form the \n",
    "sides of a right triangle. Print YES if they form one, and NO is they do \n",
    "not. The input will have three lines, with one integer on each line. \n",
    "The output should be a single line containing one of these two \n",
    "strings: YES or NO."
   ]
  },
  {
   "cell_type": "code",
   "execution_count": 13,
   "id": "6da27351",
   "metadata": {},
   "outputs": [
    {
     "name": "stdout",
     "output_type": "stream",
     "text": [
      "2\n",
      "3\n",
      "4\n",
      "No\n"
     ]
    }
   ],
   "source": [
    "a=int(input())\n",
    "b=int(input())\n",
    "c=int(input())\n",
    "d=a**2+b**2\n",
    "e=b**2+c**2\n",
    "f=a**2+c**2\n",
    "if (d==c**2) or (e==a**2) or (f==b**2):\n",
    "    print('Yes')\n",
    "else:\n",
    "    print('No')"
   ]
  },
  {
   "cell_type": "code",
   "execution_count": 18,
   "id": "cbdb3e8b",
   "metadata": {},
   "outputs": [
    {
     "data": {
      "text/plain": [
       "['a', 'a', 'b', 'c', 'e', 'f']"
      ]
     },
     "execution_count": 18,
     "metadata": {},
     "output_type": "execute_result"
    }
   ],
   "source": [
    "l1=['b','c','a','e','f','a']\n",
    "l1.sort()\n",
    "l1"
   ]
  },
  {
   "cell_type": "code",
   "execution_count": 17,
   "id": "e87a3a31",
   "metadata": {},
   "outputs": [],
   "source": [
    "l1"
   ]
  },
  {
   "cell_type": "markdown",
   "id": "450f4837",
   "metadata": {},
   "source": [
    "15. Accept a string as input and print the vowels present in the string in \n",
    "alphabetical order. If the string doesn’t contain any vowels, then \n",
    "print the string none as output. Each vowel that appears in the input \n",
    "string – irrespective of its case should appear just once in lower case \n",
    "in the output"
   ]
  },
  {
   "cell_type": "code",
   "execution_count": 3,
   "id": "6d45ab9a",
   "metadata": {},
   "outputs": [
    {
     "name": "stdout",
     "output_type": "stream",
     "text": [
      "apple\n",
      "a\n",
      "e\n"
     ]
    }
   ],
   "source": [
    "s=input()\n",
    "v=['a','e','i','o','u']\n",
    "l1=[]\n",
    "for i in s:\n",
    "    if i in v:\n",
    "        l1.append(i)\n",
    "l1.sort()\n",
    "for v in l1:\n",
    "    print(v)\n",
    "    "
   ]
  },
  {
   "cell_type": "code",
   "execution_count": 5,
   "id": "cc5c2e28",
   "metadata": {},
   "outputs": [
    {
     "name": "stdout",
     "output_type": "stream",
     "text": [
      "aae\n",
      "ae\n"
     ]
    }
   ],
   "source": [
    "#Alternate Solution\n",
    "input_string = input().lower()\n",
    "vowels = \"\"\n",
    "if \"a\" in input_string:\n",
    " vowels += \"a\"\n",
    "if \"e\" in input_string:\n",
    " vowels += \"e\"\n",
    "if \"i\" in input_string:\n",
    " vowels += \"i\"\n",
    "if \"o\" in input_string:\n",
    " vowels += \"o\"\n",
    "if \"u\" in input_string:\n",
    " vowels += \"u\"\n",
    "# check if vowels is non-empty\n",
    "if vowels != \"\":\n",
    " print(vowels)\n",
    "else:\n",
    " print('none')"
   ]
  },
  {
   "cell_type": "markdown",
   "id": "765b69f7",
   "metadata": {},
   "source": [
    "16.You are given the date of birth of two persons, not necessarily from \n",
    "the same family. Your task is to find the younger of the two. If both \n",
    "of them share the same date of birth, then the younger of the two is \n",
    "assumed to be that person whose name comes first in alphabetical \n",
    "order.\n",
    "The input will have four lines. The first two lines correspond to the \n",
    "first person, while the last two lines correspond to the second \n",
    "person. For each person, the first line corresponds to the name and \n",
    "the second line corresponds to the date of birth in “DD-MM-YYYY” \n",
    "format. Your output should be the name of the younger of the two."
   ]
  },
  {
   "cell_type": "code",
   "execution_count": 16,
   "id": "0cb08fe5",
   "metadata": {
    "scrolled": true
   },
   "outputs": [
    {
     "name": "stdout",
     "output_type": "stream",
     "text": [
      "Himasnhu\n",
      "07-11-2001\n",
      "Abdul\n",
      "07-11-2001\n",
      "Abdul\n"
     ]
    }
   ],
   "source": [
    "n1 = input()\n",
    "d1 = input()\n",
    "n2 = input()\n",
    "d2 = input()\n",
    "if d1==d2 :\n",
    "     if n1<n2 :\n",
    "         print(n1)\n",
    "     else :\n",
    "         print(n2)\n",
    "elif d1[-4:] != d2[-4:] :\n",
    "     if int(d1[-4:]) < int(d2[-4:]):\n",
    "         print(n2)\n",
    "     else :\n",
    "         print(n1)\n",
    "elif d1[3:5] != d2[3:5]:\n",
    "     if int(d1[3:5]) < int(d2[3:5]):\n",
    "         print(n2)\n",
    "     else :\n",
    "         print(n1)\n",
    "else :\n",
    "     if int(d1[0:2]) < int(d2[0:2]):\n",
    "         print(n2)\n",
    "     else :\n",
    "         print(n1)\n",
    "\n",
    "  "
   ]
  },
  {
   "cell_type": "markdown",
   "id": "3b81bf27",
   "metadata": {},
   "source": [
    "14. EvenOdd is a tech startup. Each employee at the startup is given an employee id which is a unique \n",
    "positive integer. On one warm Sunday evening, five employees of the company come together for a \n",
    "meeting and sit at a circular table:\n",
    "The employees follow a strange convention. They will continue the meeting only if the following \n",
    "condition is satisfied.\n",
    "The sum of the employee-ids of every pair of adjacent employees at the table must be an even \n",
    "number.\n",
    "They are so lazy that they won’t move around to satisfy the above condition, If the current seating \n",
    "plan doesn’t satisfy the condition, the meeting will be cancelled. You are given the employee-id of all \n",
    "five employees. Your task is to decide if the meeting happened or not.\n",
    "The input will be five lined, each containing an integer. The ith line will have the employee-id of Ei. \n",
    "The output will be a single line containing one of these two strings: YES or NO"
   ]
  },
  {
   "cell_type": "code",
   "execution_count": 2,
   "id": "2630c4d6",
   "metadata": {},
   "outputs": [
    {
     "name": "stdout",
     "output_type": "stream",
     "text": [
      "2\n",
      "4\n",
      "6\n",
      "8\n",
      "10\n",
      "Yes\n"
     ]
    }
   ],
   "source": [
    "e1=int(input())\n",
    "e2=int(input())\n",
    "e3=int(input())\n",
    "e4=int(input())\n",
    "e5=int(input())\n",
    "s1=e1+e2\n",
    "s2=e1+e5\n",
    "s3=e2+e3\n",
    "s4=e3+e4\n",
    "s5=e4+e5\n",
    "if s1%2==0 and s2%2==0 and s3%2==0 and s4%2==0 and s5%2==0:\n",
    "    print('Yes')\n",
    "else:\n",
    "    print('No')"
   ]
  },
  {
   "cell_type": "markdown",
   "id": "97321fd9",
   "metadata": {},
   "source": [
    "17.Accept a string as input. Your task is to determine if the input string is a valid password or not. For a \n",
    "string to be a valid password, it must satisfy all the conditions given below:\n",
    "(1) It should have at least 8 and at most 32 characters\n",
    "(2) It should start with an uppercase or lowercase letter\n",
    "(3) It should not have any of these characters: / \\ = ' \"\n",
    "(4) It should not have spaces\n",
    "It could have any character that is not mentioned in the list of characters to be avoided (points 3 and \n",
    "4). Output True if the string forms a valid password and False otherwise"
   ]
  },
  {
   "cell_type": "code",
   "execution_count": 24,
   "id": "2e014164",
   "metadata": {},
   "outputs": [
    {
     "name": "stdout",
     "output_type": "stream",
     "text": [
      "NHASH98988 7\n",
      "False\n"
     ]
    }
   ],
   "source": [
    "string=input()\n",
    "if (len(string)>=8) and (len(string)<33) and string[0].isalpha() and \"/\" not in string and '\\\"'  not in string and '=' not in string and \"'\" not in string and '\"' not in string and string.isalnum():\n",
    "    print(True)\n",
    "else:\n",
    "    print(False)\n",
    "\n"
   ]
  },
  {
   "cell_type": "markdown",
   "id": "2dc49fb6",
   "metadata": {},
   "source": [
    "19.Accept a positive integer n as input, where n is greater than 1. \n",
    "Print PRIME ifnis a prime number and NOTPRIME otherwise."
   ]
  },
  {
   "cell_type": "code",
   "execution_count": 13,
   "id": "1ad1e7e6",
   "metadata": {},
   "outputs": [
    {
     "name": "stdout",
     "output_type": "stream",
     "text": [
      "116\n",
      "116 is not a prime number \n"
     ]
    }
   ],
   "source": [
    "n=int(input())\n",
    "prime=True\n",
    "if n==1:\n",
    "    prime=False\n",
    "else:\n",
    "    for i in range(2,n):\n",
    "        if n%2==0:\n",
    "            prime=False\n",
    "if prime==True:\n",
    "    print(f\"{n} is a prime number.\")\n",
    "else:\n",
    "    print(f\"{n} is not a prime number \")\n",
    "    \n",
    "    \n",
    "    "
   ]
  },
  {
   "cell_type": "markdown",
   "id": "6ff7af8b",
   "metadata": {},
   "source": [
    "20. Accept two strings as input and form a new string by removing all \n",
    "characters from the second string which are present in the first string. \n",
    "Print this new string as output. You can assume that all input strings \n",
    "will be in lower case."
   ]
  },
  {
   "cell_type": "code",
   "execution_count": 18,
   "id": "9ca4c223",
   "metadata": {},
   "outputs": [
    {
     "name": "stdout",
     "output_type": "stream",
     "text": [
      "devesh\n",
      "devashish\n",
      "ai\n"
     ]
    }
   ],
   "source": [
    "a=input()\n",
    "b=input()\n",
    "for c in a:\n",
    "    if c in b:\n",
    "        b=b.replace(c,'')\n",
    "print(b)\n",
    "    "
   ]
  },
  {
   "cell_type": "code",
   "execution_count": 21,
   "id": "ef6e6cf4",
   "metadata": {},
   "outputs": [
    {
     "data": {
      "text/plain": [
       "3"
      ]
     },
     "execution_count": 21,
     "metadata": {},
     "output_type": "execute_result"
    }
   ],
   "source": [
    "a='121212'\n",
    "a.count('1')"
   ]
  },
  {
   "cell_type": "markdown",
   "id": "0318ca80",
   "metadata": {},
   "source": [
    "21.Accept a phone number as input. A valid phone number should satisfy \n",
    "the following constraints.\n",
    "(1) The number should start with one of these digits: 6, 7, 8, 9\n",
    "(2) The number should be exactly 10 digits long.\n",
    "(3) No digit should appear more than 7 times in the number.\n",
    "(4) No digit should appear more than 5 times in a row in the \n",
    "number.\n",
    "If the fourth condition is not very clear, then consider this example: \n",
    "the number 9888888765 is invalid because the digit 8 appears more \n",
    "than 5 times in a row. Print the string valid if the phone number is \n",
    "valid. If not, print the string invalid."
   ]
  },
  {
   "cell_type": "code",
   "execution_count": 20,
   "id": "1d25642d",
   "metadata": {},
   "outputs": [
    {
     "name": "stdout",
     "output_type": "stream",
     "text": [
      "9881057133\n",
      "valid\n"
     ]
    }
   ],
   "source": [
    "n=input()\n",
    "a=False\n",
    "if len(n)==10 and int(n[0])>5 and n.isdigit():\n",
    "    for i in range(10):\n",
    "        if n.count(n[i])<8:\n",
    "            a=True\n",
    "            if n[i]*6 in n:\n",
    "                a=False\n",
    "                break\n",
    "        else:\n",
    "            break\n",
    "if a:\n",
    "    print('valid')\n",
    "else:\n",
    "    print('invalid')\n",
    "\n",
    "#The isdigit() method returns True if all the characters are digits, otherwise False.\n",
    "# The count() method returns the number of elements with the specified value."
   ]
  },
  {
   "cell_type": "code",
   "execution_count": 19,
   "id": "4f39754f",
   "metadata": {},
   "outputs": [
    {
     "ename": "IndentationError",
     "evalue": "unexpected indent (246914815.py, line 10)",
     "output_type": "error",
     "traceback": [
      "\u001b[1;36m  Input \u001b[1;32mIn [19]\u001b[1;36m\u001b[0m\n\u001b[1;33m    if phn[0:5].count(i)<4 and phn_num[1:6].count(i)<4 and phn[2:7].count(i)<4 and phn_num[3:8].count(i)<4 and phn_num[4:9].count(i)<4 and phn_num[5:10].count(i)<4 and phn_num[6:].count(i)<4:\u001b[0m\n\u001b[1;37m    ^\u001b[0m\n\u001b[1;31mIndentationError\u001b[0m\u001b[1;31m:\u001b[0m unexpected indent\n"
     ]
    }
   ],
   "source": [
    "phn_num=input()\n",
    "isvalid=True\n",
    "\n",
    "if int(phn_num[0])>5 and len(phn_num)==10:\n",
    "    for i in phn_num:\n",
    "         if phn_num.count(i)<8:\n",
    "                isvalid=True\n",
    "         else:\n",
    "            break\n",
    "                if phn[0:5].count(i)<4 and phn_num[1:6].count(i)<4 and phn[2:7].count(i)<4 and phn_num[3:8].count(i)<4 and phn_num[4:9].count(i)<4 and phn_num[5:10].count(i)<4 and phn_num[6:].count(i)<4:\n",
    "                    isvalid=True\n",
    "                else:\n",
    "                    break\n",
    "else:\n",
    "    break\n",
    "                \n",
    "                    \n",
    "    \n",
    "\n",
    "    \n",
    "\n",
    "    \n",
    "    \n",
    "    \n",
    "        \n",
    "            \n",
    "if isvalid==True:\n",
    "    print(f\"Phone number:{phn_num} is valid!\")\n",
    "else:\n",
    "    print(f\"Phone number:{phn_num} is invalid!\")"
   ]
  },
  {
   "cell_type": "code",
   "execution_count": 18,
   "id": "c8301337",
   "metadata": {},
   "outputs": [
    {
     "name": "stdout",
     "output_type": "stream",
     "text": [
      "asas\n",
      "No\n"
     ]
    }
   ],
   "source": [
    "p=input()\n",
    "valid=False\n",
    "for i in p:\n",
    "    if p[0:5].count(i)>2:\n",
    "        valid=True\n",
    "if valid:\n",
    "    print('Yes')\n",
    "else:\n",
    "    print('No')"
   ]
  },
  {
   "cell_type": "code",
   "execution_count": 9,
   "id": "a2cf1f69",
   "metadata": {},
   "outputs": [
    {
     "data": {
      "text/plain": [
       "'111111'"
      ]
     },
     "execution_count": 9,
     "metadata": {},
     "output_type": "execute_result"
    }
   ],
   "source": [
    "p='12122'\n",
    "p[0]*6"
   ]
  },
  {
   "cell_type": "code",
   "execution_count": 6,
   "id": "dcbd70c5",
   "metadata": {},
   "outputs": [
    {
     "data": {
      "text/plain": [
       "2"
      ]
     },
     "execution_count": 6,
     "metadata": {},
     "output_type": "execute_result"
    }
   ],
   "source": [
    "p='121212121'\n",
    "p[3:7].count('1')"
   ]
  },
  {
   "cell_type": "markdown",
   "id": "cc99a939",
   "metadata": {},
   "source": [
    "22. In the first line of input, accept a sequence of space-separated words. In the second line of \n",
    "input, accept a single word. If this word is not present in the sequence, print NO. If this word \n",
    "is present in the sequence, then print YES and in the next line of the output, print the number \n",
    "of times the word appears in the sequence."
   ]
  },
  {
   "cell_type": "code",
   "execution_count": null,
   "id": "44f84fbf",
   "metadata": {},
   "outputs": [],
   "source": [
    "a=input()\n",
    "b=input()\n",
    "if b in a:\n",
    "    c=a.count(b)\n",
    "print(c)\n",
    "    \n"
   ]
  },
  {
   "cell_type": "markdown",
   "id": "d6cf10da",
   "metadata": {},
   "source": [
    "23. Write a function named factorial that accepts an integer n as argument. It should return \n",
    "the factorial of n if n is a positive integer. It should return -1 if n is a negative integer, and it \n",
    "should return 1 if n is zero."
   ]
  },
  {
   "cell_type": "code",
   "execution_count": 69,
   "id": "bbb0999a",
   "metadata": {},
   "outputs": [],
   "source": [
    "def myfunc(n):\n",
    "    fact=1\n",
    "    i=1\n",
    "    if n<0:\n",
    "        return -1\n",
    "    if n==0:\n",
    "        return 1\n",
    "    \n",
    "    \n",
    "    if n>0:\n",
    "        \n",
    "        \n",
    "        while i<=n:\n",
    "            fact=fact*i\n",
    "            i=i+1\n",
    "    return fact\n",
    "    \n",
    " \n",
    "    \n",
    "\n",
    "\n",
    " \n",
    "    \n",
    "        \n",
    "        "
   ]
  },
  {
   "cell_type": "code",
   "execution_count": 71,
   "id": "a26fd934",
   "metadata": {},
   "outputs": [
    {
     "name": "stdout",
     "output_type": "stream",
     "text": [
      "120\n"
     ]
    }
   ],
   "source": [
    "print(myfunc(5))"
   ]
  },
  {
   "cell_type": "code",
   "execution_count": 43,
   "id": "16cbefbd",
   "metadata": {},
   "outputs": [
    {
     "data": {
      "text/plain": [
       "720"
      ]
     },
     "execution_count": 43,
     "metadata": {},
     "output_type": "execute_result"
    }
   ],
   "source": [
    "n=6\n",
    "fact=1\n",
    "i=1\n",
    "while i<=n:\n",
    "    fact=fact*i\n",
    "    i=i+1\n",
    "fact"
   ]
  },
  {
   "cell_type": "markdown",
   "id": "7ecab963",
   "metadata": {},
   "source": [
    "24. \n",
    "The range of a list of numbers is the difference between the maximum and minimum values in the list\n",
    "Write a function named get_range that accepts a non-empty list of real numbers as argument. It \n",
    "should return the range of the list.\n",
    "(1) Avoid using built-in function such as max and min.\n",
    "(2) You do not have to accept input from the user or print output to the console. You just have to write \n",
    "the function definition."
   ]
  },
  {
   "cell_type": "code",
   "execution_count": 31,
   "id": "b539cda2",
   "metadata": {},
   "outputs": [],
   "source": [
    "def get_range(l):\n",
    "    \n",
    "    max=0\n",
    "    for i in l:\n",
    "        if i>max:\n",
    "            max=i\n",
    "        \n",
    "    l.sort()\n",
    "    min=l[0]\n",
    "    range=max-min\n",
    "    return range"
   ]
  },
  {
   "cell_type": "code",
   "execution_count": 32,
   "id": "a80f3f86",
   "metadata": {},
   "outputs": [
    {
     "name": "stdout",
     "output_type": "stream",
     "text": [
      "114\n"
     ]
    }
   ],
   "source": [
    "print(get_range([45,6,7,12,99,22,120]))"
   ]
  },
  {
   "cell_type": "markdown",
   "id": "8ce3cd45",
   "metadata": {},
   "source": [
    "## Alternate Solution:"
   ]
  },
  {
   "cell_type": "code",
   "execution_count": 34,
   "id": "847bc173",
   "metadata": {},
   "outputs": [],
   "source": [
    "def get_range(l):\n",
    "    \n",
    "    max=0\n",
    "    for i in l:\n",
    "        if i>max:\n",
    "            max=i\n",
    "    min=l[0]\n",
    "    for i in l:\n",
    "        if i<min:\n",
    "            min=i\n",
    "    range=max-min\n",
    "    return range"
   ]
  },
  {
   "cell_type": "code",
   "execution_count": 35,
   "id": "2cb27072",
   "metadata": {},
   "outputs": [
    {
     "name": "stdout",
     "output_type": "stream",
     "text": [
      "14\n"
     ]
    }
   ],
   "source": [
    "print(get_range([12,13,14,15,1,6]))"
   ]
  },
  {
   "cell_type": "markdown",
   "id": "13023b2e",
   "metadata": {},
   "source": [
    "28. You are given a string and two non-negative integers as input. The \n",
    "two integers specify the start and end indices of a substring in the \n",
    "given string. Create a new string by replicating the substring a \n",
    "minimum number of times so that the resulting string is longer than \n",
    "the input string. The input parameters are the string, start index of \n",
    "the substring and the end index of substring (endpoints inclusive) \n",
    "each on a different line."
   ]
  },
  {
   "cell_type": "code",
   "execution_count": null,
   "id": "47a31de6",
   "metadata": {},
   "outputs": [],
   "source": []
  },
  {
   "cell_type": "markdown",
   "id": "7f5e9027",
   "metadata": {},
   "source": [
    "29. A simple algorithm has to be designed to find out whether a student \n",
    "belongs to the Data Science branch or not. The input will be a \n",
    "student's roll number, which is of the form BR18B0000. \n",
    "Here, BR represents the branch code, 18 represents the year of \n",
    "joining, B represents the education level and 0000 represents the \n",
    "specific identification given to the student of that batch. The branch \n",
    "code for Data Science is DS. Print True if the student belongs to \n",
    "Data Science branch and False otherwise."
   ]
  },
  {
   "cell_type": "code",
   "execution_count": 37,
   "id": "e2602f1f",
   "metadata": {},
   "outputs": [
    {
     "name": "stdout",
     "output_type": "stream",
     "text": [
      "DS43C0000\n",
      "True\n"
     ]
    }
   ],
   "source": [
    "s = input()\n",
    "if s[0]=='D' and s[1]=='S':\n",
    "    print(\"True\")\n",
    "else:\n",
    "    print(\"False\")\n"
   ]
  },
  {
   "cell_type": "markdown",
   "id": "bfeb4000",
   "metadata": {},
   "source": [
    "30. remove items from a list while iterating but without creating a different copy of a list.\n",
    "Remove numbers greater than 50\n",
    "number_list = [10, 20, 30, 40, 50, 60, 70, 80, 90, 100]\n",
    "Expected Output: [10, 20, 30, 40, 50]"
   ]
  },
  {
   "cell_type": "code",
   "execution_count": 42,
   "id": "33183847",
   "metadata": {},
   "outputs": [
    {
     "data": {
      "text/plain": [
       "[1, 2, 3, 1, 4, 2, 5, 9]"
      ]
     },
     "execution_count": 42,
     "metadata": {},
     "output_type": "execute_result"
    }
   ],
   "source": [
    "num_list=[1,2,3,1,4,2,5,75,67,78,90,75,9]\n",
    "list(filter(lambda num:num<=50,num_list))"
   ]
  },
  {
   "cell_type": "markdown",
   "id": "7037e2b3",
   "metadata": {},
   "source": [
    "31.  Display all duplicate items from a list\n",
    "sample_list = [10, 20, 60, 30, 20, 40, 30, 60, 70, 80]\n",
    "Expected Output: [20, 60, 30]"
   ]
  },
  {
   "cell_type": "code",
   "execution_count": 46,
   "id": "a4260102",
   "metadata": {},
   "outputs": [
    {
     "data": {
      "text/plain": [
       "[20, 60, 30]"
      ]
     },
     "execution_count": 46,
     "metadata": {},
     "output_type": "execute_result"
    }
   ],
   "source": [
    "sample_list =  [10, 20, 60, 30, 20, 40, 30, 60, 70, 80]\n",
    "l1=[]\n",
    "for i in sample_list:\n",
    "    if sample_list.count(i)>1:\n",
    "        l1.append(i)\n",
    "list(set(l1))      "
   ]
  },
  {
   "cell_type": "markdown",
   "id": "8e0126c0",
   "metadata": {},
   "source": [
    "32. A class teacher has decided to split her entire class into four groups, namely Sapphire, Peridot, Ruby, \n",
    "and Emerald for sports competitions. For dividing the students into these four groups, she has \n",
    "followed the pattern given below:\n",
    "Sapphire - 1, 5, 9, 13, 17, 21, ...\n",
    "Peridot - 2, 6, 10, 14, 18, 22, ...\n",
    "Ruby - 3, 7, 11, 15, 19, 23, ...\n",
    "Emerald - 4, 8, 12, 16, 20, 24, ...\n",
    "All the students are represented by their roll numbers. Based on the above pattern, given the roll \n",
    "number as input, print the group the student belongs to. Note that the roll number can be any \n",
    "positive integer and not necessarily less than 25."
   ]
  },
  {
   "cell_type": "code",
   "execution_count": 5,
   "id": "8c38af5e",
   "metadata": {},
   "outputs": [],
   "source": [
    "def stud(n):\n",
    "    Sapphire=[1]\n",
    "    i=1\n",
    "    while i<50:\n",
    "        if i%2!=0:\n",
    "            Sapphire.append(i+4)\n",
    "            i=i+4\n",
    "            \n",
    "    Peridot=[2]\n",
    "    i=2\n",
    "    while i<50:\n",
    "        if i%2==0:\n",
    "            Peridot.append(i+4)\n",
    "            i=i+4\n",
    "            \n",
    "    Ruby=[3]\n",
    "    i=3\n",
    "    while i<50:\n",
    "        Ruby.append(i+4)\n",
    "        i=i+4\n",
    "    \n",
    "    \n",
    "    Emerald=[4]\n",
    "    i=4\n",
    "    while i<50:\n",
    "        Peridot.append(i+4)\n",
    "        i=i+4\n",
    "    \n",
    "    if n in Sapphire:\n",
    "        \n",
    "        print(f\"The student with Roll:{n} is in Sapphire!\")\n",
    "   \n",
    "    elif n in Peridot:\n",
    "        \n",
    "        print(f\"The student with Roll:{n} is in Peridot!\")\n",
    "    \n",
    "    elif n in Ruby:\n",
    "        \n",
    "        print(f\"The student with Roll:{n} is in Ruby!\")\n",
    "        \n",
    "    else:\n",
    "        \n",
    "        print(f\"The student with Roll:{n} is in Emerald!\")\n",
    "        \n",
    "        \n",
    "        \n",
    "    \n",
    "    \n",
    "      \n",
    "   \n",
    "    \n",
    "    \n",
    "    "
   ]
  },
  {
   "cell_type": "code",
   "execution_count": 7,
   "id": "ab33cddd",
   "metadata": {},
   "outputs": [
    {
     "name": "stdout",
     "output_type": "stream",
     "text": [
      "The student with Roll:9 is in Sapphire!\n",
      "None\n"
     ]
    }
   ],
   "source": [
    "print(stud(9))"
   ]
  },
  {
   "cell_type": "markdown",
   "id": "3610dbca",
   "metadata": {},
   "source": [
    "32. In a portal login website, you are asked to write a function get_password_strength to decide \n",
    "the strength of a password. The strength is decided based on the total score of the password, Use \n",
    "following conditions:\n",
    "1) If password has length greater than 7 then score increases by one point.\n",
    "2) If password has at least one upper case and one lower case alphabets score increases by one point.\n",
    "3) If password has at least one number and no consecutive numbers like 12 or 234 then score \n",
    "increases by one point.\n",
    "4) If password has at least one special character (any character other than numbers and alphabets) then \n",
    "score increases by one point.\n",
    "5) If password contains username, then it is invalid password.\n",
    "If the password has score of four points, three points, two points, or one point then print Very \n",
    "Strong, Strong, Moderate, or Weak respectively. If the password is invalid, then \n",
    "print PASSWORD SHOULD NOT CONTAIN USERNAME and If the score is zero, then print Use a \n",
    "different password.The arguments to the function are username and password which are \n",
    "already defined"
   ]
  },
  {
   "cell_type": "code",
   "execution_count": null,
   "id": "e1417e65",
   "metadata": {},
   "outputs": [],
   "source": [
    "def get_password_strength(p,u):\n",
    "    stg=0\n",
    "    l1=[]\n",
    "    l2=[]\n",
    "    l3=[]\n",
    "    l4=[]\n",
    "    valid=False\n",
    "    consecutive_nums=False\n",
    "    splc=['!',\"@\",'#','%','$','&','*']\n",
    "    \n",
    "    if len(p)>7:\n",
    "        stg=stg+1\n",
    "        \n",
    "    for i in p:\n",
    "        if i.isupper():\n",
    "            l1.append(i)\n",
    "    for i in p:\n",
    "        if i.islower():\n",
    "            l2.append(i)\n",
    "            \n",
    "    if len(l1)>0:\n",
    "        stg=stg+1\n",
    "    if len(l2)>0:\n",
    "        stg=stg+1\n",
    "        \n",
    "    for i in p:\n",
    "        if i.isdigit():\n",
    "            l3.append(i)\n",
    "    if len(l3)>0:\n",
    "        stg=stg+1\n",
    "    \n",
    "    for i in range(len(p)-1):\n",
    "        if  p[i:i+2].isdigit():\n",
    "            consecutive_nums=True\n",
    "            break\n",
    "    \n",
    "    if consecutive_nums:\n",
    "        stg=stg-1\n",
    "        \n",
    "    \n",
    "   \n",
    "    for i in range(len(p)):\n",
    "        if p[i] in splc:\n",
    "            l4.append(p[i])\n",
    "        else:\n",
    "            continue\n",
    "    if len(l4)>0:\n",
    "        stg=stg+1\n",
    "    \n",
    "            \n",
    "    if u in p:\n",
    "        valid=False\n",
    "    else:\n",
    "        valid=True\n",
    "        \n",
    "    if valid:\n",
    "        print(stg)\n",
    "    else:\n",
    "        print('Password should not contain username!')\n",
    "    \n",
    "    if valid:\n",
    "        if stg>=4:\n",
    "            print('Your password is very strong!')\n",
    "        elif stg==3:\n",
    "            print('Password is strong!')\n",
    "        elif stg==2:\n",
    "            print('Password is moderate!')\n",
    "        elif stg==1:\n",
    "            print('Weak!')\n",
    "        else:\n",
    "            print('Use a different password!')\n",
    "            \n",
    " \n",
    "        "
   ]
  },
  {
   "cell_type": "code",
   "execution_count": 11,
   "id": "e4ecda07",
   "metadata": {},
   "outputs": [
    {
     "data": {
      "text/plain": [
       "['E']"
      ]
     },
     "execution_count": 11,
     "metadata": {},
     "output_type": "execute_result"
    }
   ],
   "source": [
    "s='12Edfg'\n",
    "l1=[]\n",
    "for i in s:\n",
    "    if type(i)==str:\n",
    "        if i.isupper():\n",
    "            l1.append(i)\n",
    "l1    "
   ]
  },
  {
   "cell_type": "code",
   "execution_count": 14,
   "id": "21a8d0f0",
   "metadata": {},
   "outputs": [
    {
     "name": "stdout",
     "output_type": "stream",
     "text": [
      "Password should not username!\n",
      "['2', '1']\n",
      "None\n"
     ]
    }
   ],
   "source": [
    "print(get_password_strength('himaaimanshuH21','hima'))"
   ]
  },
  {
   "cell_type": "code",
   "execution_count": 65,
   "id": "ad0024a2",
   "metadata": {},
   "outputs": [
    {
     "data": {
      "text/plain": [
       "True"
      ]
     },
     "execution_count": 65,
     "metadata": {},
     "output_type": "execute_result"
    }
   ],
   "source": [
    "s='1a'\n",
    "s[0].isdigit()"
   ]
  },
  {
   "cell_type": "code",
   "execution_count": 35,
   "id": "d65a5983",
   "metadata": {},
   "outputs": [
    {
     "name": "stdout",
     "output_type": "stream",
     "text": [
      "False\n"
     ]
    }
   ],
   "source": [
    "s='121212'\n",
    "cons=False\n",
    "for i in range(len(s)-1):\n",
    "    if s[i:i+2].isdigit():\n",
    "        consec=True\n",
    "print(cons)        "
   ]
  },
  {
   "cell_type": "code",
   "execution_count": 30,
   "id": "611f7ea0",
   "metadata": {},
   "outputs": [
    {
     "data": {
      "text/plain": [
       "True"
      ]
     },
     "execution_count": 30,
     "metadata": {},
     "output_type": "execute_result"
    }
   ],
   "source": [
    "s='s12122ss1221'\n",
    "s[6:8].isalpha()\n"
   ]
  },
  {
   "cell_type": "markdown",
   "id": "79ef25d7",
   "metadata": {},
   "source": [
    "33.Program to Get Data Items From a List Appearing Odd Number of Times"
   ]
  },
  {
   "cell_type": "code",
   "execution_count": 7,
   "id": "2c358e0a",
   "metadata": {},
   "outputs": [
    {
     "data": {
      "text/plain": [
       "{1, 4, 5, 7}"
      ]
     },
     "execution_count": 7,
     "metadata": {},
     "output_type": "execute_result"
    }
   ],
   "source": [
    "l1=[1,1,2,2,1,4,5,5,5,7]\n",
    "l2=[]\n",
    "for i in l1:\n",
    "    if l1.count(i)%2!=0:\n",
    "        l2.append(i)\n",
    "set(l2)"
   ]
  },
  {
   "cell_type": "markdown",
   "id": "21da748f",
   "metadata": {},
   "source": [
    "## Use of Two decorators"
   ]
  },
  {
   "cell_type": "code",
   "execution_count": 9,
   "id": "499305e5",
   "metadata": {},
   "outputs": [],
   "source": [
    "def sss(function):\n",
    "    def wrapper():\n",
    "        func=function()\n",
    "        string_lowercase=func.lower()\n",
    "        return string_lowercase\n",
    "    return wrapper\n",
    "\n",
    "def splitter_dec(function):\n",
    "    def wrapper():\n",
    "        func=function()\n",
    "        string_split=func.split()\n",
    "        return string_split\n",
    "    return wrapper"
   ]
  },
  {
   "cell_type": "code",
   "execution_count": 10,
   "id": "f9f2b7ef",
   "metadata": {},
   "outputs": [],
   "source": [
    "@splitter_dec\n",
    "@sss\n",
    "def xyz():\n",
    "    return 'Helo Wolrd'\n",
    "    "
   ]
  },
  {
   "cell_type": "code",
   "execution_count": 11,
   "id": "97f35c3a",
   "metadata": {},
   "outputs": [
    {
     "name": "stdout",
     "output_type": "stream",
     "text": [
      "['helo', 'wolrd']\n"
     ]
    }
   ],
   "source": [
    "print(xyz())"
   ]
  },
  {
   "cell_type": "code",
   "execution_count": 38,
   "id": "730b8cfc",
   "metadata": {},
   "outputs": [
    {
     "data": {
      "text/plain": [
       "['Asas']"
      ]
     },
     "execution_count": 38,
     "metadata": {},
     "output_type": "execute_result"
    }
   ],
   "source": [
    "l1='Asas'.split()\n",
    "l1"
   ]
  },
  {
   "cell_type": "markdown",
   "id": "1d163661",
   "metadata": {},
   "source": [
    "38. Create an outer function that will accept two strings, x and y. (x= 'Emma' and y = 'Kelly'.\n",
    "Create an inner function inside an outer function that will concatenate x and y.\n",
    "At last, an outer function will join the word 'developer' to it."
   ]
  },
  {
   "cell_type": "code",
   "execution_count": 39,
   "id": "1981891a",
   "metadata": {},
   "outputs": [],
   "source": [
    "def outer(x,y):\n",
    "    def inner(x,y):\n",
    "        return x+y\n",
    "    z=inner(x,y)+'developer'\n",
    "    return z\n",
    "    "
   ]
  },
  {
   "cell_type": "code",
   "execution_count": 40,
   "id": "13de6968",
   "metadata": {},
   "outputs": [
    {
     "name": "stdout",
     "output_type": "stream",
     "text": [
      "asasasasdeveloper\n"
     ]
    }
   ],
   "source": [
    "print(outer('asas','asas'))"
   ]
  },
  {
   "cell_type": "markdown",
   "id": "104c0ac9",
   "metadata": {},
   "source": [
    "39. Modify the element of a nested list inside the following list\n",
    "Change the element 35 to 3500\n",
    "list1 = [5, [10, 15, [20, 25, [30, 35], 40], 45], 50]"
   ]
  },
  {
   "cell_type": "code",
   "execution_count": 42,
   "id": "639f9947",
   "metadata": {},
   "outputs": [
    {
     "data": {
      "text/plain": [
       "[5, [10, 15, [20, 25, [30, 3500], 40], 45], 50]"
      ]
     },
     "execution_count": 42,
     "metadata": {},
     "output_type": "execute_result"
    }
   ],
   "source": [
    "list1 = [5, [10, 15, [20, 25, [30, 35], 40], 45], 50]\n",
    "list1[1][2][2][1]=3500\n",
    "list1"
   ]
  },
  {
   "cell_type": "markdown",
   "id": "87743fda",
   "metadata": {},
   "source": [
    "40.Write a Python program to convert all the characters in uppercase and lowercase and eliminate duplicate letters from a given sequence.\n",
    "Use map() function."
   ]
  },
  {
   "cell_type": "code",
   "execution_count": 16,
   "id": "1277cde0",
   "metadata": {},
   "outputs": [],
   "source": [
    "def conversion(word):\n",
    "    \n",
    "    for i in word:\n",
    "        if word.count(i)>1:\n",
    "            \n",
    "            word=word.replace(i,'')\n",
    "    print(word.swapcase())\n",
    "            "
   ]
  },
  {
   "cell_type": "code",
   "execution_count": 28,
   "id": "f2712e24",
   "metadata": {},
   "outputs": [
    {
     "name": "stdout",
     "output_type": "stream",
     "text": [
      "<map object at 0x00000203B7E6E730>\n"
     ]
    }
   ],
   "source": [
    "print(map(conversion,'himma'))"
   ]
  },
  {
   "cell_type": "code",
   "execution_count": null,
   "id": "68dfd73b",
   "metadata": {},
   "outputs": [],
   "source": []
  }
 ],
 "metadata": {
  "kernelspec": {
   "display_name": "Python 3",
   "language": "python",
   "name": "python3"
  },
  "language_info": {
   "codemirror_mode": {
    "name": "ipython",
    "version": 3
   },
   "file_extension": ".py",
   "mimetype": "text/x-python",
   "name": "python",
   "nbconvert_exporter": "python",
   "pygments_lexer": "ipython3",
   "version": "3.8.8"
  }
 },
 "nbformat": 4,
 "nbformat_minor": 5
}
